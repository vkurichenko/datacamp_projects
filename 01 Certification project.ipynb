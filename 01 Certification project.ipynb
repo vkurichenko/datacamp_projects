{
 "cells": [
  {
   "cell_type": "markdown",
   "id": "homeless-quality",
   "metadata": {
    "id": "bA5ajAmk7XH6"
   },
   "source": [
    "# DataCamp Certification Case Study\n",
    "\n",
    "### The task\n",
    "\n",
    "Congratulations, you have just landed your first job as a data scientist at Nearly New Nautical! Nearly New Nautical is a website that allows users to advertise their used boats for sale. To boost traffic to the website, the product manager wants to prevent listing boats that do not receive many views. \n",
    "\n",
    "The product manager wants to know if you can develop a model to predict the number of views a listing will receive based on the boat's features. She would consider using your model if, on average, the predictions were only 50% off of the true number of views a listing would receive.\n",
    "\n",
    "In addition, she has noticed that many users never complete the introductory survey to list their boat. She suspects that it is too long and has asked you whether some features are more predictive of views than others. If so, she may be able to trim the length of the survey and increase the number of people who sign up.\n",
    "\n",
    "You will need to present your findings in two formats:\n",
    "- First, you will need to present your findings to the product manager via a 10 minute oral presentation. The owner has no technical data science background. \n",
    "- You will also need to submit a technical report to your manager, who does have a strong technical data science background.\n",
    "\n",
    "The data you will use for this analysis can be accessed here: `\"data/boat_data.csv\"`"
   ]
  },
  {
   "cell_type": "markdown",
   "id": "a5140eba-f442-4357-8eec-8af8279a14d9",
   "metadata": {},
   "source": [
    "# Technical report"
   ]
  },
  {
   "cell_type": "markdown",
   "id": "87ce8996-35a9-4d9a-8d81-1fd0f73e079b",
   "metadata": {},
   "source": [
    "## Initial analysis"
   ]
  },
  {
   "cell_type": "markdown",
   "id": "4593a091-8237-4be1-96d9-ecf9e0256d7d",
   "metadata": {},
   "source": [
    "Let's import required modules first:"
   ]
  },
  {
   "cell_type": "code",
   "execution_count": null,
   "id": "dramatic-hampshire",
   "metadata": {
    "scrolled": true
   },
   "outputs": [],
   "source": [
    "import pandas as pd\n",
    "import numpy as np\n",
    "import matplotlib.pyplot as plt\n",
    "import seaborn as sns\n",
    "\n",
    "from sklearn.ensemble import RandomForestRegressor\n",
    "from sklearn.model_selection import RandomizedSearchCV, train_test_split\n",
    "from sklearn.metrics import mean_absolute_error, mean_absolute_percentage_error"
   ]
  },
  {
   "cell_type": "markdown",
   "id": "21e9b80d-301b-43b4-8b99-6b5e6404f25b",
   "metadata": {},
   "source": [
    "Importing data and looking at the first 5 rows:"
   ]
  },
  {
   "cell_type": "code",
   "execution_count": null,
   "id": "29e52793-be94-4480-9f7a-b4c1bef2952a",
   "metadata": {},
   "outputs": [
    {
     "data": {
      "application/com.datacamp.data-table.v1+json": {
       "is_truncated": false,
       "table": {
        "data": [
         {
          "Boat Type": "Motor Yacht",
          "Length": 4,
          "Location": "Switzerland Â» Lake Geneva Â» VÃ©senaz",
          "Manufacturer": "Rigiflex power boats",
          "Material": null,
          "Number of views last 7 days": 226,
          "Price": "CHF 3337",
          "Type": "new boat from stock",
          "Width": 1.9,
          "Year Built": 2017,
          "index": 0
         },
         {
          "Boat Type": "Center console boat",
          "Length": 4,
          "Location": "Germany Â» BÃ¶nningstedt",
          "Manufacturer": "Terhi power boats",
          "Material": "Thermoplastic",
          "Number of views last 7 days": 75,
          "Price": "EUR 3490",
          "Type": "new boat from stock",
          "Width": 1.5,
          "Year Built": 2020,
          "index": 1
         },
         {
          "Boat Type": "Sport Boat",
          "Length": 3.69,
          "Location": "Switzerland Â» Lake of Zurich Â» StÃ¤fa ZH",
          "Manufacturer": "Marine power boats",
          "Material": "Aluminium",
          "Number of views last 7 days": 124,
          "Price": "CHF 3770",
          "Type": "new boat from stock",
          "Width": 1.42,
          "Year Built": 0,
          "index": 2
         },
         {
          "Boat Type": "Sport Boat",
          "Length": 3,
          "Location": "Denmark Â» Svendborg",
          "Manufacturer": "Pioner power boats",
          "Material": null,
          "Number of views last 7 days": 64,
          "Price": "DKK 25900",
          "Type": "new boat from stock",
          "Width": 1,
          "Year Built": 2020,
          "index": 3
         },
         {
          "Boat Type": "Fishing Boat",
          "Length": 3.55,
          "Location": "Germany Â» Bayern Â» MÃ¼nchen",
          "Manufacturer": "Linder power boats",
          "Material": "Aluminium",
          "Number of views last 7 days": 58,
          "Price": "EUR 3399",
          "Type": "new boat from stock",
          "Width": 1.46,
          "Year Built": 2019,
          "index": 4
         }
        ],
        "schema": {
         "fields": [
          {
           "name": "index",
           "type": "integer"
          },
          {
           "name": "Price",
           "type": "string"
          },
          {
           "name": "Boat Type",
           "type": "string"
          },
          {
           "name": "Manufacturer",
           "type": "string"
          },
          {
           "name": "Type",
           "type": "string"
          },
          {
           "name": "Year Built",
           "type": "integer"
          },
          {
           "name": "Length",
           "type": "number"
          },
          {
           "name": "Width",
           "type": "number"
          },
          {
           "name": "Material",
           "type": "string"
          },
          {
           "name": "Location",
           "type": "string"
          },
          {
           "name": "Number of views last 7 days",
           "type": "integer"
          }
         ],
         "pandas_version": "0.20.0",
         "primaryKey": [
          "index"
         ]
        }
       },
       "total_rows": 5
      },
      "text/html": [
       "<div>\n",
       "<style scoped>\n",
       "    .dataframe tbody tr th:only-of-type {\n",
       "        vertical-align: middle;\n",
       "    }\n",
       "\n",
       "    .dataframe tbody tr th {\n",
       "        vertical-align: top;\n",
       "    }\n",
       "\n",
       "    .dataframe thead th {\n",
       "        text-align: right;\n",
       "    }\n",
       "</style>\n",
       "<table border=\"1\" class=\"dataframe\">\n",
       "  <thead>\n",
       "    <tr style=\"text-align: right;\">\n",
       "      <th></th>\n",
       "      <th>Price</th>\n",
       "      <th>Boat Type</th>\n",
       "      <th>Manufacturer</th>\n",
       "      <th>Type</th>\n",
       "      <th>Year Built</th>\n",
       "      <th>Length</th>\n",
       "      <th>Width</th>\n",
       "      <th>Material</th>\n",
       "      <th>Location</th>\n",
       "      <th>Number of views last 7 days</th>\n",
       "    </tr>\n",
       "  </thead>\n",
       "  <tbody>\n",
       "    <tr>\n",
       "      <th>0</th>\n",
       "      <td>CHF 3337</td>\n",
       "      <td>Motor Yacht</td>\n",
       "      <td>Rigiflex power boats</td>\n",
       "      <td>new boat from stock</td>\n",
       "      <td>2017</td>\n",
       "      <td>4.00</td>\n",
       "      <td>1.90</td>\n",
       "      <td>NaN</td>\n",
       "      <td>Switzerland Â» Lake Geneva Â» VÃ©senaz</td>\n",
       "      <td>226</td>\n",
       "    </tr>\n",
       "    <tr>\n",
       "      <th>1</th>\n",
       "      <td>EUR 3490</td>\n",
       "      <td>Center console boat</td>\n",
       "      <td>Terhi power boats</td>\n",
       "      <td>new boat from stock</td>\n",
       "      <td>2020</td>\n",
       "      <td>4.00</td>\n",
       "      <td>1.50</td>\n",
       "      <td>Thermoplastic</td>\n",
       "      <td>Germany Â» BÃ¶nningstedt</td>\n",
       "      <td>75</td>\n",
       "    </tr>\n",
       "    <tr>\n",
       "      <th>2</th>\n",
       "      <td>CHF 3770</td>\n",
       "      <td>Sport Boat</td>\n",
       "      <td>Marine power boats</td>\n",
       "      <td>new boat from stock</td>\n",
       "      <td>0</td>\n",
       "      <td>3.69</td>\n",
       "      <td>1.42</td>\n",
       "      <td>Aluminium</td>\n",
       "      <td>Switzerland Â» Lake of Zurich Â» StÃ¤fa ZH</td>\n",
       "      <td>124</td>\n",
       "    </tr>\n",
       "    <tr>\n",
       "      <th>3</th>\n",
       "      <td>DKK 25900</td>\n",
       "      <td>Sport Boat</td>\n",
       "      <td>Pioner power boats</td>\n",
       "      <td>new boat from stock</td>\n",
       "      <td>2020</td>\n",
       "      <td>3.00</td>\n",
       "      <td>1.00</td>\n",
       "      <td>NaN</td>\n",
       "      <td>Denmark Â» Svendborg</td>\n",
       "      <td>64</td>\n",
       "    </tr>\n",
       "    <tr>\n",
       "      <th>4</th>\n",
       "      <td>EUR 3399</td>\n",
       "      <td>Fishing Boat</td>\n",
       "      <td>Linder power boats</td>\n",
       "      <td>new boat from stock</td>\n",
       "      <td>2019</td>\n",
       "      <td>3.55</td>\n",
       "      <td>1.46</td>\n",
       "      <td>Aluminium</td>\n",
       "      <td>Germany Â» Bayern Â» MÃ¼nchen</td>\n",
       "      <td>58</td>\n",
       "    </tr>\n",
       "  </tbody>\n",
       "</table>\n",
       "</div>"
      ],
      "text/plain": [
       "       Price            Boat Type          Manufacturer                 Type  \\\n",
       "0   CHF 3337          Motor Yacht  Rigiflex power boats  new boat from stock   \n",
       "1   EUR 3490  Center console boat     Terhi power boats  new boat from stock   \n",
       "2   CHF 3770           Sport Boat    Marine power boats  new boat from stock   \n",
       "3  DKK 25900           Sport Boat    Pioner power boats  new boat from stock   \n",
       "4   EUR 3399         Fishing Boat    Linder power boats  new boat from stock   \n",
       "\n",
       "   Year Built  Length  Width       Material  \\\n",
       "0        2017    4.00   1.90            NaN   \n",
       "1        2020    4.00   1.50  Thermoplastic   \n",
       "2           0    3.69   1.42      Aluminium   \n",
       "3        2020    3.00   1.00            NaN   \n",
       "4        2019    3.55   1.46      Aluminium   \n",
       "\n",
       "                                     Location  Number of views last 7 days  \n",
       "0      Switzerland Â» Lake Geneva Â» VÃ©senaz                          226  \n",
       "1                    Germany Â» BÃ¶nningstedt                           75  \n",
       "2  Switzerland Â» Lake of Zurich Â» StÃ¤fa ZH                          124  \n",
       "3                        Denmark Â» Svendborg                           64  \n",
       "4               Germany Â» Bayern Â» MÃ¼nchen                           58  "
      ]
     },
     "execution_count": 227,
     "metadata": {},
     "output_type": "execute_result"
    }
   ],
   "source": [
    "initial_data = pd.read_csv(\"data/boat_data.csv\")\n",
    "initial_data.head()"
   ]
  },
  {
   "cell_type": "markdown",
   "id": "7fdf828f-f05b-4846-937d-c64d6e016a42",
   "metadata": {},
   "source": [
    "According to the client, the columns data type and meaning is the following:\n",
    "- `Price (Character)`: boat price listed in different currencies (e.g. EUR, Â£, CHF etc.) on the website\n",
    "- `Boat Type (Character)`: type of the boat\n",
    "- `Manufacturer (Character)`: manufacturer of the boat\n",
    "- `Type (Character)`: condition of the boat and engine type(e.g. Diesel, Unleaded, etc.)\n",
    "- `Year Built (Numeric)`: year of the boat built\n",
    "- `Length (Numeric)`: length in meter of the boat\n",
    "- `Width (Numeric)`: width in meter of the boat\n",
    "- `Material (Character)`: material of the boat (e.g. GRP, PVC, etc.)\n",
    "- `Location (Character)`: location of the boat is listed\n",
    "- `Number of views last 7 days (Numeric)`: number of the views of the list last 7 days"
   ]
  },
  {
   "cell_type": "markdown",
   "id": "6278540b-21a8-408f-9233-cf99e867adb9",
   "metadata": {},
   "source": [
    "Let's look at the correlation of features:"
   ]
  },
  {
   "cell_type": "code",
   "execution_count": null,
   "id": "03e99ae1-657c-4bea-80d5-7611856e1600",
   "metadata": {},
   "outputs": [
    {
     "data": {
      "text/plain": [
       "<seaborn.axisgrid.PairGrid at 0x7fced3264df0>"
      ]
     },
     "execution_count": 228,
     "metadata": {},
     "output_type": "execute_result"
    },
    {
     "data": {
      "image/png": "[encoded data removed]",
      "text/plain": [
       "<Figure size 720x720 with 20 Axes>"
      ]
     },
     "metadata": {
      "needs_background": "light"
     },
     "output_type": "display_data"
    }
   ],
   "source": [
    "sns.pairplot(initial_data)"
   ]
  },
  {
   "cell_type": "markdown",
   "id": "82e423f3-e648-44da-9c53-fb6347164ca0",
   "metadata": {},
   "source": [
    "It looks that length and width are correlated, which is obvious. For other columns correlation is not so pronounced.\n",
    "\n",
    "It is also seen that some of numeric columns have '0' values, e.g. `Year`. This can not be true, but it can be that other features of the given boat will be important for the model, so these values should not necessarily be left out. \n",
    "\n",
    "Now let's check for missing values and data types."
   ]
  },
  {
   "cell_type": "code",
   "execution_count": null,
   "id": "1fe68cab-f602-4ab2-9d66-fcf903082141",
   "metadata": {},
   "outputs": [
    {
     "name": "stdout",
     "output_type": "stream",
     "text": [
      "<class 'pandas.core.frame.DataFrame'>\n",
      "RangeIndex: 9888 entries, 0 to 9887\n",
      "Data columns (total 10 columns):\n",
      " #   Column                       Non-Null Count  Dtype  \n",
      "---  ------                       --------------  -----  \n",
      " 0   Price                        9888 non-null   object \n",
      " 1   Boat Type                    9888 non-null   object \n",
      " 2   Manufacturer                 8550 non-null   object \n",
      " 3   Type                         9882 non-null   object \n",
      " 4   Year Built                   9888 non-null   int64  \n",
      " 5   Length                       9879 non-null   float64\n",
      " 6   Width                        9832 non-null   float64\n",
      " 7   Material                     8139 non-null   object \n",
      " 8   Location                     9852 non-null   object \n",
      " 9   Number of views last 7 days  9888 non-null   int64  \n",
      "dtypes: float64(2), int64(2), object(6)\n",
      "memory usage: 772.6+ KB\n"
     ]
    }
   ],
   "source": [
    "initial_data.info()"
   ]
  },
  {
   "cell_type": "markdown",
   "id": "2f037fd7-a018-47d3-843d-395c45fd414b",
   "metadata": {},
   "source": [
    "Most of the data types are correct, but not the `Price` column. But it also has the currency tag, so something should be done about it.\n",
    "\n",
    "There are some missing values, let's count them:"
   ]
  },
  {
   "cell_type": "code",
   "execution_count": null,
   "id": "5ddf1f98-6115-47ce-9414-baa6b733343d",
   "metadata": {},
   "outputs": [
    {
     "data": {
      "text/plain": [
       "Material                       1749\n",
       "Manufacturer                   1338\n",
       "Width                            56\n",
       "Location                         36\n",
       "Length                            9\n",
       "Type                              6\n",
       "Price                             0\n",
       "Boat Type                         0\n",
       "Year Built                        0\n",
       "Number of views last 7 days       0\n",
       "dtype: int64"
      ]
     },
     "execution_count": 230,
     "metadata": {},
     "output_type": "execute_result"
    }
   ],
   "source": [
    "initial_data.isna().sum().sort_values(ascending=False)"
   ]
  },
  {
   "cell_type": "markdown",
   "id": "aaea427c-7170-4669-8869-dbbb04214cde",
   "metadata": {},
   "source": [
    "So most of the missing values are in the `Material` and `Manufacturer` column. I think that we should not delete them, but just to fill them with 'Unknown' value, because there may be other features for a given boat that would be important for the model. Data preprocessing will be made in the next part. "
   ]
  },
  {
   "cell_type": "markdown",
   "id": "c90ba29b-d263-4d81-986b-355faddb00b0",
   "metadata": {},
   "source": [
    "## Data preprocessing"
   ]
  },
  {
   "cell_type": "markdown",
   "id": "0508f198-29db-4c67-a88a-b3d4d40e2dbe",
   "metadata": {},
   "source": [
    "We should copy the initial dataset to make the changes in the copy in it:"
   ]
  },
  {
   "cell_type": "code",
   "execution_count": null,
   "id": "d08d639a-94e2-4a2b-a7a6-cc0f9a0cd740",
   "metadata": {},
   "outputs": [],
   "source": [
    "data = initial_data.copy()"
   ]
  },
  {
   "cell_type": "markdown",
   "id": "3f545988-3650-44d4-8424-a4eba3f55bcc",
   "metadata": {},
   "source": [
    "#### Dealing with prices"
   ]
  },
  {
   "cell_type": "markdown",
   "id": "5998431d-1760-4c71-aaa3-c4274ec22f78",
   "metadata": {},
   "source": [
    "At first we should split the `Price` column, so that is includes `Currency` and `Prices` individual columns. The last one we will convert to the 'float' type."
   ]
  },
  {
   "cell_type": "code",
   "execution_count": null,
   "id": "4372e37f-2e0d-44e8-a0bf-86cd36ef2d8a",
   "metadata": {},
   "outputs": [],
   "source": [
    "data['Currency'] = [x.split()[0] for x in data['Price']]\n",
    "data['Prices'] = [x.split()[1] for x in data['Price']]\n",
    "data['Prices'] = data['Prices'].astype('float')"
   ]
  },
  {
   "cell_type": "markdown",
   "id": "cd4dfc88-d369-4dcd-927c-cc046fa6ecf9",
   "metadata": {},
   "source": [
    "Let's see what are the unique values for the currency:"
   ]
  },
  {
   "cell_type": "code",
   "execution_count": null,
   "id": "29c6d024-89e2-433d-94c0-14ee9c14c26f",
   "metadata": {},
   "outputs": [
    {
     "data": {
      "text/plain": [
       "array(['CHF', 'EUR', 'DKK', 'Â£'], dtype=object)"
      ]
     },
     "execution_count": 233,
     "metadata": {},
     "output_type": "execute_result"
    }
   ],
   "source": [
    "data['Currency'].unique()"
   ]
  },
  {
   "cell_type": "markdown",
   "id": "b9d12607-7297-4d05-a67b-019cb0f35486",
   "metadata": {},
   "source": [
    "So it is Swiss Frank, Euro, Danish Krone and British Pound. \n",
    "If we want to include prices in our features for model training, we should make another columns, which is `Price in EUR`, so that all the prices are consistent.\n",
    "\n",
    "At the first step we should create a dictionary with currency rate and then create another column by using `map` function."
   ]
  },
  {
   "cell_type": "code",
   "execution_count": null,
   "id": "602b0a0f-391c-4d92-a8b2-777d378fdbc8",
   "metadata": {},
   "outputs": [],
   "source": [
    "converter = {'CHF':0.97, 'EUR':1, 'DKK':0.13, 'Â£':1.19}\n",
    "data['Price in EUR'] = data['Currency'].map(converter) * data['Prices']"
   ]
  },
  {
   "cell_type": "markdown",
   "id": "05a8abd2-e30b-4b7a-8223-888a6b5b8f50",
   "metadata": {},
   "source": [
    "#### Dealing with missing values"
   ]
  },
  {
   "cell_type": "markdown",
   "id": "16fb0bd3-8bd7-412e-9173-b805ddc807ab",
   "metadata": {},
   "source": [
    "Now we should fill the missing values:\n",
    "- For text columns we should fill them with 'Unknown' value.\n",
    "- For numeric columns we will fill them with 0."
   ]
  },
  {
   "cell_type": "code",
   "execution_count": null,
   "id": "0f27d3ec-2ce7-44d4-9cb3-e87192bde56f",
   "metadata": {},
   "outputs": [],
   "source": [
    "text_columns = ['Material', 'Manufacturer', 'Location', 'Type']\n",
    "numeric_columns = ['Width', 'Length']\n",
    "\n",
    "data[text_columns] = data[text_columns].fillna('unknown')\n",
    "data[numeric_columns] = data[numeric_columns].fillna(0)"
   ]
  },
  {
   "cell_type": "markdown",
   "id": "3c4ce3b9-5e3b-4329-9764-7e7be06c5f58",
   "metadata": {},
   "source": [
    "Let's check the number of missing values again:"
   ]
  },
  {
   "cell_type": "code",
   "execution_count": null,
   "id": "14a279cd-7600-4bc5-8c4b-671a9e9d3686",
   "metadata": {},
   "outputs": [
    {
     "data": {
      "text/plain": [
       "Price                          0\n",
       "Boat Type                      0\n",
       "Manufacturer                   0\n",
       "Type                           0\n",
       "Year Built                     0\n",
       "Length                         0\n",
       "Width                          0\n",
       "Material                       0\n",
       "Location                       0\n",
       "Number of views last 7 days    0\n",
       "Currency                       0\n",
       "Prices                         0\n",
       "Price in EUR                   0\n",
       "dtype: int64"
      ]
     },
     "execution_count": 236,
     "metadata": {},
     "output_type": "execute_result"
    }
   ],
   "source": [
    "data.isna().sum().sort_values(ascending=False)"
   ]
  },
  {
   "cell_type": "markdown",
   "id": "a6ac01ef-9fe1-4905-ba93-bd1476472428",
   "metadata": {},
   "source": [
    "Looks that there is no missing values now."
   ]
  },
  {
   "cell_type": "markdown",
   "id": "93ebbbe0-f97d-4976-ace9-becb655781b8",
   "metadata": {},
   "source": [
    "#### Working the boat types"
   ]
  },
  {
   "cell_type": "markdown",
   "id": "6aa58318-2945-4161-9ad5-47f96c06cf87",
   "metadata": {},
   "source": [
    "Let's see the unique values of `Boat Type` column."
   ]
  },
  {
   "cell_type": "code",
   "execution_count": null,
   "id": "0d91ca78-5949-438a-814c-3747d838a6bb",
   "metadata": {},
   "outputs": [
    {
     "data": {
      "text/plain": [
       "array(['Motor Yacht', 'Center console boat', 'Sport Boat', 'Fishing Boat',\n",
       "       'Catamaran', 'Pontoon Boat', 'Runabout', 'Deck Boat', 'Pilothouse',\n",
       "       'Cabin Boat', 'Working Boat', 'Classic', 'Bowrider',\n",
       "       'Sport Boat,Working Boat', 'Cabin Boat,Classic',\n",
       "       'Deck Boat,Pilothouse,Sport Boat', 'Trawler', 'Launch',\n",
       "       'Cabin Boat,Trawler', 'Bowrider,Classic', 'Motor Yacht,Sport Boat',\n",
       "       'Classic,Runabout,Sport Boat', 'Cabin Boat,Motor Yacht',\n",
       "       'Classic,Launch', 'Cabin Boat,Sport Boat', 'Flybridge',\n",
       "       'Water ski', 'Hardtop', 'Classic,Runabout', 'Offshore Boat',\n",
       "       'Cabin Boat,Sport Boat,Wakeboard/Wakesurf', 'Classic,Pontoon Boat',\n",
       "       'Classic,Motor Yacht', 'Motor Yacht,Sport Boat,Trawler',\n",
       "       'Wakeboard/Wakesurf', 'Passenger boat',\n",
       "       'Classic,Sport Boat,Water ski', 'Classic,Sport Boat', 'House Boat',\n",
       "       'Classic,Motorsailer', 'Sport Boat,Wakeboard/Wakesurf',\n",
       "       'Pilothouse,Sport Boat', 'House Boat,Motor Yacht',\n",
       "       'Cabin Boat,Classic,Trawler', 'Passenger boat,Working Boat',\n",
       "       'Wakeboard/Wakesurf,Water ski',\n",
       "       'Classic,Motor Yacht,Passenger boat', 'Offshore Boat,Pilothouse',\n",
       "       'Runabout,Sport Boat,Water ski',\n",
       "       'Bowrider,Sport Boat,Wakeboard/Wakesurf', 'Sport Boat,Water ski',\n",
       "       'Cabin Boat,Classic,Motor Yacht', 'Classic,Flybridge',\n",
       "       'Flybridge,Pilothouse', 'Flybridge,Motor Yacht',\n",
       "       'Classic,Working Boat', 'Classic,Pontoon Boat,Trawler',\n",
       "       'Sport Boat,Wakeboard/Wakesurf,Water ski', 'Classic,Trawler',\n",
       "       'Ketch', 'Runabout,Sport Boat', 'Cabin Boat,Hardtop,Trawler',\n",
       "       'Cabin Boat,Motor Yacht,Sport Boat',\n",
       "       'Classic,House Boat,Motor Yacht', 'Hardtop,Motor Yacht',\n",
       "       'Mega Yacht', 'Hardtop,Mega Yacht,Motor Yacht',\n",
       "       'Flybridge,Hardtop,Motor Yacht', 'Motorsailer',\n",
       "       'Classic,Mega Yacht', 'Cabin Boat,Motor Yacht,Offshore Boat',\n",
       "       'Center console boat,Classic', 'Cabin Boat,Motor Yacht,Trawler',\n",
       "       'Bowrider,Motor Yacht,Wakeboard/Wakesurf', 'Motor Yacht,Trawler',\n",
       "       'Hardtop,Motor Yacht,Sport Boat',\n",
       "       'Classic,House Boat,Passenger boat',\n",
       "       'House Boat,Motor Yacht,Trawler', 'Cabin Boat,Hardtop,Motor Yacht',\n",
       "       'Cabin Boat,Flybridge', 'Fishing Boat,Launch,Motor Yacht',\n",
       "       'Cabin Boat,House Boat', 'Cabin Boat,Hardtop',\n",
       "       'Bowrider,Motor Yacht,Sport Boat', 'Classic,Deck Boat',\n",
       "       'Cabin Boat,Flybridge,Motor Yacht',\n",
       "       'Classic,Motor Yacht,Sport Boat', 'Bowrider,Cabin Boat,Deck Boat',\n",
       "       'Motor Yacht,Wakeboard/Wakesurf', 'Classic,Motor Yacht,Water ski',\n",
       "       'Passenger boat,Runabout,Sport Boat', 'Offshore Boat,Sport Boat',\n",
       "       'Center console boat,Sport Boat',\n",
       "       'Cabin Boat,Fishing Boat,Pilothouse', 'Cabin Boat,Pilothouse',\n",
       "       'Center console boat,Fishing Boat,Sport Boat',\n",
       "       'Fishing Boat,Flybridge,Trawler',\n",
       "       'Motor Yacht,Sport Boat,Water ski',\n",
       "       'Cabin Boat,Hardtop,Sport Boat', 'Fishing Boat,Sport Boat',\n",
       "       'Classic,Hardtop,Motor Yacht',\n",
       "       'Center console boat,Deck Boat,Working Boat',\n",
       "       'Center console boat,Sport Boat,Water ski',\n",
       "       'Fishing Boat,Pilothouse', 'Bowrider,Wakeboard/Wakesurf',\n",
       "       'House Boat,Sport Boat,Trawler', 'Cabin Boat,House Boat,Trawler',\n",
       "       'Cabin Boat,Fishing Boat',\n",
       "       'Bowrider,Center console boat,Sport Boat',\n",
       "       'Cabin Boat,Pilothouse,Sport Boat',\n",
       "       'Cabin Boat,Classic,Passenger boat', 'Classic,Sport Boat,Trawler',\n",
       "       'Fishing Boat,Passenger boat,Sport Boat',\n",
       "       'Classic,Fishing Boat,Working Boat',\n",
       "       'Center console boat,Deck Boat,Sport Boat',\n",
       "       'Cabin Boat,Classic,Flybridge', 'Fishing Boat,Hardtop,Pilothouse',\n",
       "       'Cabin Boat,Fishing Boat,House Boat',\n",
       "       'Cabin Boat,Sport Boat,Water ski', 'Bowrider,Deck Boat,Water ski',\n",
       "       'RIB', 'Deck Boat,Water ski', 'Classic,Fishing Boat',\n",
       "       'Hardtop,Sport Boat', 'Cabin Boat,Fishing Boat,Sport Boat',\n",
       "       'Classic,Runabout,Trawler'], dtype=object)"
      ]
     },
     "execution_count": 237,
     "metadata": {},
     "output_type": "execute_result"
    }
   ],
   "source": [
    "data['Boat Type'].unique()"
   ]
  },
  {
   "cell_type": "markdown",
   "id": "8ebe99c2-08b2-4962-aaa3-6ec2bad66607",
   "metadata": {},
   "source": [
    "This is a lot of Boat Types, as you can see. But something tells me that we should not use all of them, so let's count how many of each of them in the dataset."
   ]
  },
  {
   "cell_type": "code",
   "execution_count": null,
   "id": "4d6ba2d0-6dd2-400d-bb68-e977d66e32ac",
   "metadata": {},
   "outputs": [
    {
     "data": {
      "text/plain": [
       "Motor Yacht                                 0.275081\n",
       "Sport Boat                                  0.142294\n",
       "Flybridge                                   0.120752\n",
       "Trawler                                     0.068669\n",
       "Pilothouse                                  0.061994\n",
       "                                              ...   \n",
       "Hardtop,Mega Yacht,Motor Yacht              0.000101\n",
       "Classic,Pontoon Boat,Trawler                0.000101\n",
       "Fishing Boat,Launch,Motor Yacht             0.000101\n",
       "Center console boat,Sport Boat,Water ski    0.000101\n",
       "Cabin Boat,Classic,Passenger boat           0.000101\n",
       "Name: Boat Type, Length: 126, dtype: float64"
      ]
     },
     "execution_count": 238,
     "metadata": {},
     "output_type": "execute_result"
    }
   ],
   "source": [
    "data['Boat Type'].value_counts(normalize=True)"
   ]
  },
  {
   "cell_type": "markdown",
   "id": "66645917-bce4-4f32-949c-b4f2940a9542",
   "metadata": {},
   "source": [
    "It is seen that some of the types are only 0.01% of the whole dataset. We should check, how many types can we exclude but still use most of the data but using cumulating sum of the counts."
   ]
  },
  {
   "cell_type": "code",
   "execution_count": null,
   "id": "d8dd4c4a-c79e-4cec-afb0-aeb2cb7870c5",
   "metadata": {},
   "outputs": [
    {
     "data": {
      "application/com.datacamp.data-table.v1+json": {
       "is_truncated": false,
       "table": {
        "data": [
         {
          "Boat Type": 0.2750809061,
          "index": "Motor Yacht",
          "level_0": 0
         },
         {
          "Boat Type": 0.4173745955,
          "index": "Sport Boat",
          "level_0": 1
         },
         {
          "Boat Type": 0.5381270227,
          "index": "Flybridge",
          "level_0": 2
         },
         {
          "Boat Type": 0.6067961165,
          "index": "Trawler",
          "level_0": 3
         },
         {
          "Boat Type": 0.6687904531,
          "index": "Pilothouse",
          "level_0": 4
         },
         {
          "Boat Type": 0.7279530744,
          "index": "Cabin Boat",
          "level_0": 5
         },
         {
          "Boat Type": 0.7792273463,
          "index": "Hardtop",
          "level_0": 6
         },
         {
          "Boat Type": 0.8165453074,
          "index": "Center console boat",
          "level_0": 7
         },
         {
          "Boat Type": 0.846986246,
          "index": "Bowrider",
          "level_0": 8
         },
         {
          "Boat Type": 0.8756067961,
          "index": "Deck Boat",
          "level_0": 9
         },
         {
          "Boat Type": 0.8931027508,
          "index": "Fishing Boat",
          "level_0": 10
         },
         {
          "Boat Type": 0.9077669903,
          "index": "House Boat",
          "level_0": 11
         },
         {
          "Boat Type": 0.9186893204,
          "index": "Mega Yacht",
          "level_0": 12
         },
         {
          "Boat Type": 0.9278923948,
          "index": "Pontoon Boat",
          "level_0": 13
         },
         {
          "Boat Type": 0.9352750809,
          "index": "Runabout",
          "level_0": 14
         },
         {
          "Boat Type": 0.9412419094,
          "index": "Classic",
          "level_0": 15
         },
         {
          "Boat Type": 0.9472087379,
          "index": "Classic,Runabout",
          "level_0": 16
         },
         {
          "Boat Type": 0.9530744337,
          "index": "Wakeboard/Wakesurf",
          "level_0": 17
         },
         {
          "Boat Type": 0.9586367314,
          "index": "Launch",
          "level_0": 18
         },
         {
          "Boat Type": 0.9640978964,
          "index": "Offshore Boat",
          "level_0": 19
         },
         {
          "Boat Type": 0.9685477346,
          "index": "Working Boat",
          "level_0": 20
         },
         {
          "Boat Type": 0.9718851133,
          "index": "Passenger boat",
          "level_0": 21
         },
         {
          "Boat Type": 0.9745145631,
          "index": "Classic,Motor Yacht",
          "level_0": 22
         },
         {
          "Boat Type": 0.9771440129,
          "index": "Catamaran",
          "level_0": 23
         },
         {
          "Boat Type": 0.9783576052,
          "index": "Classic,Sport Boat",
          "level_0": 24
         },
         {
          "Boat Type": 0.979368932,
          "index": "Cabin Boat,Motor Yacht",
          "level_0": 25
         },
         {
          "Boat Type": 0.9803802589,
          "index": "Water ski",
          "level_0": 26
         },
         {
          "Boat Type": 0.9812904531,
          "index": "Cabin Boat,Classic",
          "level_0": 27
         },
         {
          "Boat Type": 0.9822006472,
          "index": "Cabin Boat,Sport Boat",
          "level_0": 28
         },
         {
          "Boat Type": 0.9831108414,
          "index": "Motor Yacht,Sport Boat",
          "level_0": 29
         }
        ],
        "schema": {
         "fields": [
          {
           "name": "index",
           "type": "integer"
          },
          {
           "name": "index",
           "type": "string"
          },
          {
           "name": "Boat Type",
           "type": "number"
          }
         ],
         "pandas_version": "0.20.0",
         "primaryKey": [
          "index"
         ]
        }
       },
       "total_rows": 30
      },
      "text/html": [
       "<div>\n",
       "<style scoped>\n",
       "    .dataframe tbody tr th:only-of-type {\n",
       "        vertical-align: middle;\n",
       "    }\n",
       "\n",
       "    .dataframe tbody tr th {\n",
       "        vertical-align: top;\n",
       "    }\n",
       "\n",
       "    .dataframe thead th {\n",
       "        text-align: right;\n",
       "    }\n",
       "</style>\n",
       "<table border=\"1\" class=\"dataframe\">\n",
       "  <thead>\n",
       "    <tr style=\"text-align: right;\">\n",
       "      <th></th>\n",
       "      <th>index</th>\n",
       "      <th>Boat Type</th>\n",
       "    </tr>\n",
       "  </thead>\n",
       "  <tbody>\n",
       "    <tr>\n",
       "      <th>0</th>\n",
       "      <td>Motor Yacht</td>\n",
       "      <td>0.275081</td>\n",
       "    </tr>\n",
       "    <tr>\n",
       "      <th>1</th>\n",
       "      <td>Sport Boat</td>\n",
       "      <td>0.417375</td>\n",
       "    </tr>\n",
       "    <tr>\n",
       "      <th>2</th>\n",
       "      <td>Flybridge</td>\n",
       "      <td>0.538127</td>\n",
       "    </tr>\n",
       "    <tr>\n",
       "      <th>3</th>\n",
       "      <td>Trawler</td>\n",
       "      <td>0.606796</td>\n",
       "    </tr>\n",
       "    <tr>\n",
       "      <th>4</th>\n",
       "      <td>Pilothouse</td>\n",
       "      <td>0.668790</td>\n",
       "    </tr>\n",
       "    <tr>\n",
       "      <th>5</th>\n",
       "      <td>Cabin Boat</td>\n",
       "      <td>0.727953</td>\n",
       "    </tr>\n",
       "    <tr>\n",
       "      <th>6</th>\n",
       "      <td>Hardtop</td>\n",
       "      <td>0.779227</td>\n",
       "    </tr>\n",
       "    <tr>\n",
       "      <th>7</th>\n",
       "      <td>Center console boat</td>\n",
       "      <td>0.816545</td>\n",
       "    </tr>\n",
       "    <tr>\n",
       "      <th>8</th>\n",
       "      <td>Bowrider</td>\n",
       "      <td>0.846986</td>\n",
       "    </tr>\n",
       "    <tr>\n",
       "      <th>9</th>\n",
       "      <td>Deck Boat</td>\n",
       "      <td>0.875607</td>\n",
       "    </tr>\n",
       "    <tr>\n",
       "      <th>10</th>\n",
       "      <td>Fishing Boat</td>\n",
       "      <td>0.893103</td>\n",
       "    </tr>\n",
       "    <tr>\n",
       "      <th>11</th>\n",
       "      <td>House Boat</td>\n",
       "      <td>0.907767</td>\n",
       "    </tr>\n",
       "    <tr>\n",
       "      <th>12</th>\n",
       "      <td>Mega Yacht</td>\n",
       "      <td>0.918689</td>\n",
       "    </tr>\n",
       "    <tr>\n",
       "      <th>13</th>\n",
       "      <td>Pontoon Boat</td>\n",
       "      <td>0.927892</td>\n",
       "    </tr>\n",
       "    <tr>\n",
       "      <th>14</th>\n",
       "      <td>Runabout</td>\n",
       "      <td>0.935275</td>\n",
       "    </tr>\n",
       "    <tr>\n",
       "      <th>15</th>\n",
       "      <td>Classic</td>\n",
       "      <td>0.941242</td>\n",
       "    </tr>\n",
       "    <tr>\n",
       "      <th>16</th>\n",
       "      <td>Classic,Runabout</td>\n",
       "      <td>0.947209</td>\n",
       "    </tr>\n",
       "    <tr>\n",
       "      <th>17</th>\n",
       "      <td>Wakeboard/Wakesurf</td>\n",
       "      <td>0.953074</td>\n",
       "    </tr>\n",
       "    <tr>\n",
       "      <th>18</th>\n",
       "      <td>Launch</td>\n",
       "      <td>0.958637</td>\n",
       "    </tr>\n",
       "    <tr>\n",
       "      <th>19</th>\n",
       "      <td>Offshore Boat</td>\n",
       "      <td>0.964098</td>\n",
       "    </tr>\n",
       "    <tr>\n",
       "      <th>20</th>\n",
       "      <td>Working Boat</td>\n",
       "      <td>0.968548</td>\n",
       "    </tr>\n",
       "    <tr>\n",
       "      <th>21</th>\n",
       "      <td>Passenger boat</td>\n",
       "      <td>0.971885</td>\n",
       "    </tr>\n",
       "    <tr>\n",
       "      <th>22</th>\n",
       "      <td>Classic,Motor Yacht</td>\n",
       "      <td>0.974515</td>\n",
       "    </tr>\n",
       "    <tr>\n",
       "      <th>23</th>\n",
       "      <td>Catamaran</td>\n",
       "      <td>0.977144</td>\n",
       "    </tr>\n",
       "    <tr>\n",
       "      <th>24</th>\n",
       "      <td>Classic,Sport Boat</td>\n",
       "      <td>0.978358</td>\n",
       "    </tr>\n",
       "    <tr>\n",
       "      <th>25</th>\n",
       "      <td>Cabin Boat,Motor Yacht</td>\n",
       "      <td>0.979369</td>\n",
       "    </tr>\n",
       "    <tr>\n",
       "      <th>26</th>\n",
       "      <td>Water ski</td>\n",
       "      <td>0.980380</td>\n",
       "    </tr>\n",
       "    <tr>\n",
       "      <th>27</th>\n",
       "      <td>Cabin Boat,Classic</td>\n",
       "      <td>0.981290</td>\n",
       "    </tr>\n",
       "    <tr>\n",
       "      <th>28</th>\n",
       "      <td>Cabin Boat,Sport Boat</td>\n",
       "      <td>0.982201</td>\n",
       "    </tr>\n",
       "    <tr>\n",
       "      <th>29</th>\n",
       "      <td>Motor Yacht,Sport Boat</td>\n",
       "      <td>0.983111</td>\n",
       "    </tr>\n",
       "  </tbody>\n",
       "</table>\n",
       "</div>"
      ],
      "text/plain": [
       "                     index  Boat Type\n",
       "0              Motor Yacht   0.275081\n",
       "1               Sport Boat   0.417375\n",
       "2                Flybridge   0.538127\n",
       "3                  Trawler   0.606796\n",
       "4               Pilothouse   0.668790\n",
       "5               Cabin Boat   0.727953\n",
       "6                  Hardtop   0.779227\n",
       "7      Center console boat   0.816545\n",
       "8                 Bowrider   0.846986\n",
       "9                Deck Boat   0.875607\n",
       "10            Fishing Boat   0.893103\n",
       "11              House Boat   0.907767\n",
       "12              Mega Yacht   0.918689\n",
       "13            Pontoon Boat   0.927892\n",
       "14                Runabout   0.935275\n",
       "15                 Classic   0.941242\n",
       "16        Classic,Runabout   0.947209\n",
       "17      Wakeboard/Wakesurf   0.953074\n",
       "18                  Launch   0.958637\n",
       "19           Offshore Boat   0.964098\n",
       "20            Working Boat   0.968548\n",
       "21          Passenger boat   0.971885\n",
       "22     Classic,Motor Yacht   0.974515\n",
       "23               Catamaran   0.977144\n",
       "24      Classic,Sport Boat   0.978358\n",
       "25  Cabin Boat,Motor Yacht   0.979369\n",
       "26               Water ski   0.980380\n",
       "27      Cabin Boat,Classic   0.981290\n",
       "28   Cabin Boat,Sport Boat   0.982201\n",
       "29  Motor Yacht,Sport Boat   0.983111"
      ]
     },
     "execution_count": 239,
     "metadata": {},
     "output_type": "execute_result"
    }
   ],
   "source": [
    "np.cumsum(data['Boat Type'].value_counts(normalize=True))[:30].reset_index()"
   ]
  },
  {
   "cell_type": "markdown",
   "id": "646e3919-00f1-47db-9435-9a2c64a10c13",
   "metadata": {},
   "source": [
    "So it is seen that if we even use the first 16 Boat Types, we will cover 94% of the dataset. This number was also chosen because it allows us to use only Boat Types with one value in them. E.g. 'Classic', but not 'Classic, Sport Boat'. So let's limit our Boat Types for the first 16 common ones."
   ]
  },
  {
   "cell_type": "code",
   "execution_count": null,
   "id": "e2a27369-6132-4f52-b77a-28c31e2c71a2",
   "metadata": {},
   "outputs": [],
   "source": [
    "boat_types_to_include = data['Boat Type'].value_counts(normalize=True)[:16].index\n",
    "data = data.loc[data['Boat Type'].isin(list(boat_types_to_include))]"
   ]
  },
  {
   "cell_type": "markdown",
   "id": "ea7ea3fc-23a0-4e66-b0df-1cb7447c42c7",
   "metadata": {},
   "source": [
    "#### Working with types"
   ]
  },
  {
   "cell_type": "markdown",
   "id": "62d5d019-ca29-4d0e-8593-367462cc5376",
   "metadata": {},
   "source": [
    "There is another column that should be worked with, which is `Type`. Let's us the same steps as we used for `Boat Types` column."
   ]
  },
  {
   "cell_type": "code",
   "execution_count": null,
   "id": "4cfc1ab0-c3a9-4639-97ad-c3a1a4fed1ed",
   "metadata": {},
   "outputs": [
    {
     "data": {
      "text/plain": [
       "Used boat,Diesel                0.426131\n",
       "Used boat,Unleaded              0.156979\n",
       "Used boat                       0.147738\n",
       "new boat from stock,Unleaded    0.117546\n",
       "new boat from stock             0.067906\n",
       "new boat from stock,Diesel      0.030192\n",
       "new boat on order,Unleaded      0.014828\n",
       "Display Model,Unleaded          0.007199\n",
       "new boat on order               0.006554\n",
       "new boat on order,Diesel        0.006447\n",
       "Diesel                          0.005802\n",
       "Unleaded                        0.002364\n",
       "Used boat,Electric              0.002149\n",
       "Display Model,Diesel            0.001934\n",
       "Display Model                   0.001934\n",
       "new boat from stock,Electric    0.001612\n",
       "Used boat,Gas                   0.000860\n",
       "Display Model,Electric          0.000645\n",
       "unknown                         0.000537\n",
       "new boat from stock,Gas         0.000215\n",
       "new boat from stock,Hybrid      0.000107\n",
       "Electric                        0.000107\n",
       "Display Model,Gas               0.000107\n",
       "Used boat,Hybrid                0.000107\n",
       "Name: Type, dtype: float64"
      ]
     },
     "execution_count": 241,
     "metadata": {},
     "output_type": "execute_result"
    }
   ],
   "source": [
    "data['Type'].value_counts(normalize=True)"
   ]
  },
  {
   "cell_type": "markdown",
   "id": "3be2489a-062a-4edf-a70e-5edfe592d52d",
   "metadata": {},
   "source": [
    "There are definitely less unique types of `Type`.\n",
    "\n",
    "Let's count them."
   ]
  },
  {
   "cell_type": "code",
   "execution_count": null,
   "id": "66ea8a3a-316e-43cc-92c5-72e932693f28",
   "metadata": {},
   "outputs": [
    {
     "data": {
      "application/com.datacamp.data-table.v1+json": {
       "is_truncated": false,
       "table": {
        "data": [
         {
          "Type": 0.4261308692,
          "index": "Used boat,Diesel",
          "level_0": 0
         },
         {
          "Type": 0.5831094875,
          "index": "Used boat,Unleaded",
          "level_0": 1
         },
         {
          "Type": 0.730847749,
          "index": "Used boat",
          "level_0": 2
         },
         {
          "Type": 0.8483936822,
          "index": "new boat from stock,Unleaded",
          "level_0": 3
         },
         {
          "Type": 0.9162995595,
          "index": "new boat from stock",
          "level_0": 4
         },
         {
          "Type": 0.9464918878,
          "index": "new boat from stock,Diesel",
          "level_0": 5
         },
         {
          "Type": 0.961319437,
          "index": "new boat on order,Unleaded",
          "level_0": 6
         },
         {
          "Type": 0.9685183195,
          "index": "Display Model,Unleaded",
          "level_0": 7
         },
         {
          "Type": 0.9750725261,
          "index": "new boat on order",
          "level_0": 8
         },
         {
          "Type": 0.9815192866,
          "index": "new boat on order,Diesel",
          "level_0": 9
         },
         {
          "Type": 0.987321371,
          "index": "Diesel",
          "level_0": 10
         },
         {
          "Type": 0.9896851832,
          "index": "Unleaded",
          "level_0": 11
         },
         {
          "Type": 0.9918341034,
          "index": "Used boat,Electric",
          "level_0": 12
         },
         {
          "Type": 0.9937681315,
          "index": "Display Model,Diesel",
          "level_0": 13
         },
         {
          "Type": 0.9957021597,
          "index": "Display Model",
          "level_0": 14
         },
         {
          "Type": 0.9973138498,
          "index": "new boat from stock,Electric",
          "level_0": 15
         },
         {
          "Type": 0.9981734179,
          "index": "Used boat,Gas",
          "level_0": 16
         },
         {
          "Type": 0.9988180939,
          "index": "Display Model,Electric",
          "level_0": 17
         },
         {
          "Type": 0.9993553239,
          "index": "unknown",
          "level_0": 18
         },
         {
          "Type": 0.999570216,
          "index": "new boat from stock,Gas",
          "level_0": 19
         },
         {
          "Type": 0.999677662,
          "index": "new boat from stock,Hybrid",
          "level_0": 20
         },
         {
          "Type": 0.999785108,
          "index": "Electric",
          "level_0": 21
         },
         {
          "Type": 0.999892554,
          "index": "Display Model,Gas",
          "level_0": 22
         },
         {
          "Type": 1,
          "index": "Used boat,Hybrid",
          "level_0": 23
         }
        ],
        "schema": {
         "fields": [
          {
           "name": "index",
           "type": "integer"
          },
          {
           "name": "index",
           "type": "string"
          },
          {
           "name": "Type",
           "type": "number"
          }
         ],
         "pandas_version": "0.20.0",
         "primaryKey": [
          "index"
         ]
        }
       },
       "total_rows": 24
      },
      "text/html": [
       "<div>\n",
       "<style scoped>\n",
       "    .dataframe tbody tr th:only-of-type {\n",
       "        vertical-align: middle;\n",
       "    }\n",
       "\n",
       "    .dataframe tbody tr th {\n",
       "        vertical-align: top;\n",
       "    }\n",
       "\n",
       "    .dataframe thead th {\n",
       "        text-align: right;\n",
       "    }\n",
       "</style>\n",
       "<table border=\"1\" class=\"dataframe\">\n",
       "  <thead>\n",
       "    <tr style=\"text-align: right;\">\n",
       "      <th></th>\n",
       "      <th>index</th>\n",
       "      <th>Type</th>\n",
       "    </tr>\n",
       "  </thead>\n",
       "  <tbody>\n",
       "    <tr>\n",
       "      <th>0</th>\n",
       "      <td>Used boat,Diesel</td>\n",
       "      <td>0.426131</td>\n",
       "    </tr>\n",
       "    <tr>\n",
       "      <th>1</th>\n",
       "      <td>Used boat,Unleaded</td>\n",
       "      <td>0.583109</td>\n",
       "    </tr>\n",
       "    <tr>\n",
       "      <th>2</th>\n",
       "      <td>Used boat</td>\n",
       "      <td>0.730848</td>\n",
       "    </tr>\n",
       "    <tr>\n",
       "      <th>3</th>\n",
       "      <td>new boat from stock,Unleaded</td>\n",
       "      <td>0.848394</td>\n",
       "    </tr>\n",
       "    <tr>\n",
       "      <th>4</th>\n",
       "      <td>new boat from stock</td>\n",
       "      <td>0.916300</td>\n",
       "    </tr>\n",
       "    <tr>\n",
       "      <th>5</th>\n",
       "      <td>new boat from stock,Diesel</td>\n",
       "      <td>0.946492</td>\n",
       "    </tr>\n",
       "    <tr>\n",
       "      <th>6</th>\n",
       "      <td>new boat on order,Unleaded</td>\n",
       "      <td>0.961319</td>\n",
       "    </tr>\n",
       "    <tr>\n",
       "      <th>7</th>\n",
       "      <td>Display Model,Unleaded</td>\n",
       "      <td>0.968518</td>\n",
       "    </tr>\n",
       "    <tr>\n",
       "      <th>8</th>\n",
       "      <td>new boat on order</td>\n",
       "      <td>0.975073</td>\n",
       "    </tr>\n",
       "    <tr>\n",
       "      <th>9</th>\n",
       "      <td>new boat on order,Diesel</td>\n",
       "      <td>0.981519</td>\n",
       "    </tr>\n",
       "    <tr>\n",
       "      <th>10</th>\n",
       "      <td>Diesel</td>\n",
       "      <td>0.987321</td>\n",
       "    </tr>\n",
       "    <tr>\n",
       "      <th>11</th>\n",
       "      <td>Unleaded</td>\n",
       "      <td>0.989685</td>\n",
       "    </tr>\n",
       "    <tr>\n",
       "      <th>12</th>\n",
       "      <td>Used boat,Electric</td>\n",
       "      <td>0.991834</td>\n",
       "    </tr>\n",
       "    <tr>\n",
       "      <th>13</th>\n",
       "      <td>Display Model,Diesel</td>\n",
       "      <td>0.993768</td>\n",
       "    </tr>\n",
       "    <tr>\n",
       "      <th>14</th>\n",
       "      <td>Display Model</td>\n",
       "      <td>0.995702</td>\n",
       "    </tr>\n",
       "    <tr>\n",
       "      <th>15</th>\n",
       "      <td>new boat from stock,Electric</td>\n",
       "      <td>0.997314</td>\n",
       "    </tr>\n",
       "    <tr>\n",
       "      <th>16</th>\n",
       "      <td>Used boat,Gas</td>\n",
       "      <td>0.998173</td>\n",
       "    </tr>\n",
       "    <tr>\n",
       "      <th>17</th>\n",
       "      <td>Display Model,Electric</td>\n",
       "      <td>0.998818</td>\n",
       "    </tr>\n",
       "    <tr>\n",
       "      <th>18</th>\n",
       "      <td>unknown</td>\n",
       "      <td>0.999355</td>\n",
       "    </tr>\n",
       "    <tr>\n",
       "      <th>19</th>\n",
       "      <td>new boat from stock,Gas</td>\n",
       "      <td>0.999570</td>\n",
       "    </tr>\n",
       "    <tr>\n",
       "      <th>20</th>\n",
       "      <td>new boat from stock,Hybrid</td>\n",
       "      <td>0.999678</td>\n",
       "    </tr>\n",
       "    <tr>\n",
       "      <th>21</th>\n",
       "      <td>Electric</td>\n",
       "      <td>0.999785</td>\n",
       "    </tr>\n",
       "    <tr>\n",
       "      <th>22</th>\n",
       "      <td>Display Model,Gas</td>\n",
       "      <td>0.999893</td>\n",
       "    </tr>\n",
       "    <tr>\n",
       "      <th>23</th>\n",
       "      <td>Used boat,Hybrid</td>\n",
       "      <td>1.000000</td>\n",
       "    </tr>\n",
       "  </tbody>\n",
       "</table>\n",
       "</div>"
      ],
      "text/plain": [
       "                           index      Type\n",
       "0               Used boat,Diesel  0.426131\n",
       "1             Used boat,Unleaded  0.583109\n",
       "2                      Used boat  0.730848\n",
       "3   new boat from stock,Unleaded  0.848394\n",
       "4            new boat from stock  0.916300\n",
       "5     new boat from stock,Diesel  0.946492\n",
       "6     new boat on order,Unleaded  0.961319\n",
       "7         Display Model,Unleaded  0.968518\n",
       "8              new boat on order  0.975073\n",
       "9       new boat on order,Diesel  0.981519\n",
       "10                        Diesel  0.987321\n",
       "11                      Unleaded  0.989685\n",
       "12            Used boat,Electric  0.991834\n",
       "13          Display Model,Diesel  0.993768\n",
       "14                 Display Model  0.995702\n",
       "15  new boat from stock,Electric  0.997314\n",
       "16                 Used boat,Gas  0.998173\n",
       "17        Display Model,Electric  0.998818\n",
       "18                       unknown  0.999355\n",
       "19       new boat from stock,Gas  0.999570\n",
       "20    new boat from stock,Hybrid  0.999678\n",
       "21                      Electric  0.999785\n",
       "22             Display Model,Gas  0.999893\n",
       "23              Used boat,Hybrid  1.000000"
      ]
     },
     "execution_count": 242,
     "metadata": {},
     "output_type": "execute_result"
    }
   ],
   "source": [
    "np.cumsum(data['Type'].value_counts(normalize=True))[:30].reset_index()"
   ]
  },
  {
   "cell_type": "markdown",
   "id": "bcc2ffc1-4ff2-4354-bec1-c167490fee6c",
   "metadata": {},
   "source": [
    "We can see that in that column we can use even less values to cover most of the dataset. It is proposed to use the first 7, since it will allow us to divide the types based on the condition as 'New/Used' and on the of fuel as: 'Diesel/Unleaded'."
   ]
  },
  {
   "cell_type": "code",
   "execution_count": null,
   "id": "4c2350bb-316f-43f3-a77b-b8bf52931fea",
   "metadata": {},
   "outputs": [],
   "source": [
    "types_to_include = data['Type'].value_counts(normalize=True)[:7].index\n",
    "data = data.loc[data['Type'].isin(list(types_to_include))]"
   ]
  },
  {
   "cell_type": "markdown",
   "id": "196325e0-4278-43db-bfd5-5fc4290446f4",
   "metadata": {},
   "source": [
    "Now we should create the columns of 'Condition' and 'Fuel'. Since for some data there is no information about the type of fuel that it uses, e.g. 'Used boat', we will fill the `Fuel` column for those boats with 'unknown' value."
   ]
  },
  {
   "cell_type": "code",
   "execution_count": null,
   "id": "c9f78a4e-9fe8-4504-a11e-b1fb79d534d8",
   "metadata": {},
   "outputs": [],
   "source": [
    "data['Condition'] = ['new' if 'new' in x.lower() else 'used' if 'used' in x.lower() else 'unknown' for x in data['Type']]\n",
    "data['Fuel'] = ['diesel' if 'diesel' in x.lower() else 'unleaded' if 'unleaded' in x.lower() else 'unknown' for x in data['Type']]"
   ]
  },
  {
   "cell_type": "markdown",
   "id": "df93a993-fc01-4ca5-86b3-04cfeb10e6ad",
   "metadata": {},
   "source": [
    "#### Working with location"
   ]
  },
  {
   "cell_type": "markdown",
   "id": "193014f0-1925-484f-9be0-f1cc2e60a257",
   "metadata": {},
   "source": [
    "Finally, something should be done for the location values. Let's look at the unique value counts."
   ]
  },
  {
   "cell_type": "code",
   "execution_count": null,
   "id": "8b390fae-7dad-4430-ab2b-1f6e80214f96",
   "metadata": {},
   "outputs": [
    {
     "data": {
      "text/plain": [
       "Netherlands Â» In verkoophaven                             0.033195\n",
       "Croatia (Hrvatska)                                         0.026601\n",
       "Italy Â» Toscana Â» Toscana                                0.018777\n",
       "Italy                                                      0.016989\n",
       "Italy Â» Mar Tirreno                                       0.013524\n",
       "France                                                     0.012518\n",
       "Italy Â» Campania Â» Campania                              0.012071\n",
       "Netherlands                                                0.010618\n",
       "Spain Â» Mallorca Â» Mallorca                              0.010506\n",
       "Croatia (Hrvatska) Â» INFO DD-YACHTING                     0.007824\n",
       "Italy Â» Aprilia Marittima di Latisana (UD)                0.007712\n",
       "Germany                                                    0.007600\n",
       "Italy Â» Liguria Â» Liguria                                0.007377\n",
       "Denmark Â» Svendborg                                       0.006930\n",
       "Netherlands Â» onbekend                                    0.006706\n",
       "Italy Â» Sardegna Â» Sardegna                              0.006147\n",
       "Italy Â» Veneto Â» Veneto                                  0.006036\n",
       "Italy Â» Nord Adria                                        0.005924\n",
       "Germany Â» Hamburg Â» HAMBURG                              0.005700\n",
       "Italy Â» Lazio Â» Lazio                                    0.005700\n",
       "Croatia (Hrvatska) Â» Dalmatia                             0.005365\n",
       "Germany Â» 1                                               0.005365\n",
       "Spain Â» Alicante                                          0.005365\n",
       "Germany Â» Kieler Bucht mit Fehmarn Â» Kiel                0.005141\n",
       "Italy Â» Friuli-Venezia Giulia                             0.004694\n",
       "Croatia (Hrvatska) Â» Kvarner                              0.004694\n",
       "Italy Â» Friuli Venezia Giulia Â» Friuli Venezia Giulia    0.004471\n",
       "Croatia (Hrvatska) Â» Split                                0.004247\n",
       "Croatia (Hrvatska) Â» Istra                                0.004135\n",
       "Greece                                                     0.003912\n",
       "Name: Location, dtype: float64"
      ]
     },
     "execution_count": 245,
     "metadata": {},
     "output_type": "execute_result"
    }
   ],
   "source": [
    "data['Location'].value_counts(normalize=True)[:30]"
   ]
  },
  {
   "cell_type": "markdown",
   "id": "89a0c5a5-8a68-4faf-8b90-af31be4f5d8d",
   "metadata": {},
   "source": [
    "For boat location we can not say that some of the countries are seen a lot often that others. Let's split the values to include only the country."
   ]
  },
  {
   "cell_type": "code",
   "execution_count": null,
   "id": "dbed8789-57a6-40c2-8bc4-70c6170afe0b",
   "metadata": {},
   "outputs": [
    {
     "data": {
      "text/plain": [
       "Italy          0.195385\n",
       "Germany        0.186747\n",
       "France         0.132530\n",
       "Netherlands    0.109570\n",
       "Switzerland    0.098659\n",
       "Croatia        0.089338\n",
       "Spain          0.076040\n",
       "United         0.025119\n",
       "Denmark        0.017731\n",
       "Portugal       0.014435\n",
       "Greece         0.008979\n",
       "Malta          0.008184\n",
       "Austria        0.006933\n",
       "Belgium        0.006479\n",
       "Turkey         0.006479\n",
       "Slovenia       0.004092\n",
       "unknown        0.003865\n",
       "Finland        0.003865\n",
       "Poland         0.003296\n",
       "Montenegro     0.002273\n",
       "Name: Country, dtype: float64"
      ]
     },
     "execution_count": 560,
     "metadata": {},
     "output_type": "execute_result"
    }
   ],
   "source": [
    "data['Country'] = [x.split()[0] for x in data['Location']]\n",
    "data['Country'].value_counts(normalize=True)[:30]"
   ]
  },
  {
   "cell_type": "markdown",
   "id": "7853f93a-8ee5-4e7a-93b8-6d8f6399d554",
   "metadata": {},
   "source": [
    "So now it is more obvious that there are more boats from some countries.\n",
    "\n",
    "Let's check how much should we use to cover most of the data with less countries."
   ]
  },
  {
   "cell_type": "code",
   "execution_count": null,
   "id": "7f5d11dc-9815-4f02-8c55-3f7d03a88e1a",
   "metadata": {},
   "outputs": [
    {
     "data": {
      "application/com.datacamp.data-table.v1+json": {
       "is_truncated": false,
       "table": {
        "data": [
         {
          "Country": 0.1921314407,
          "index": "Italy",
          "level_0": 0
         },
         {
          "Country": 0.375768414,
          "index": "Germany",
          "level_0": 1
         },
         {
          "Country": 0.5060914273,
          "index": "France",
          "level_0": 2
         },
         {
          "Country": 0.6138370403,
          "index": "Netherlands",
          "level_0": 3
         },
         {
          "Country": 0.7108527998,
          "index": "Switzerland",
          "level_0": 4
         },
         {
          "Country": 0.798703476,
          "index": "Croatia",
          "level_0": 5
         },
         {
          "Country": 0.8734771432,
          "index": "Spain",
          "level_0": 6
         },
         {
          "Country": 0.8981781603,
          "index": "United",
          "level_0": 7
         },
         {
          "Country": 0.9156141723,
          "index": "Denmark",
          "level_0": 8
         },
         {
          "Country": 0.9298088745,
          "index": "Portugal",
          "level_0": 9
         },
         {
          "Country": 0.9386386498,
          "index": "Greece",
          "level_0": 10
         },
         {
          "Country": 0.94668604,
          "index": "Malta",
          "level_0": 11
         },
         {
          "Country": 0.9535039678,
          "index": "Austria",
          "level_0": 12
         },
         {
          "Country": 0.9598748184,
          "index": "Belgium",
          "level_0": 13
         },
         {
          "Country": 0.9662456689,
          "index": "Turkey",
          "level_0": 14
         },
         {
          "Country": 0.970269364,
          "index": "Slovenia",
          "level_0": 15
         },
         {
          "Country": 0.9740695205,
          "index": "unknown",
          "level_0": 16
         },
         {
          "Country": 0.977869677,
          "index": "Finland",
          "level_0": 17
         },
         {
          "Country": 0.9811109869,
          "index": "Poland",
          "level_0": 18
         },
         {
          "Country": 0.9833463731,
          "index": "Montenegro",
          "level_0": 19
         },
         {
          "Country": 0.9846876048,
          "index": "Lake",
          "level_0": 20
         },
         {
          "Country": 0.9858052979,
          "index": "Monaco",
          "level_0": 21
         },
         {
          "Country": 0.9868112216,
          "index": "Sweden",
          "level_0": 22
         },
         {
          "Country": 0.9878171454,
          "index": "Slovak",
          "level_0": 23
         },
         {
          "Country": 0.988375992,
          "index": "Cyprus",
          "level_0": 24
         },
         {
          "Country": 0.9889348385,
          "index": "Lithuania",
          "level_0": 25
         },
         {
          "Country": 0.989493685,
          "index": "Czech",
          "level_0": 26
         },
         {
          "Country": 0.9899407623,
          "index": "Estonia",
          "level_0": 27
         },
         {
          "Country": 0.9902760702,
          "index": "Lago",
          "level_0": 28
         },
         {
          "Country": 0.9906113781,
          "index": "Bulgaria",
          "level_0": 29
         }
        ],
        "schema": {
         "fields": [
          {
           "name": "index",
           "type": "integer"
          },
          {
           "name": "index",
           "type": "string"
          },
          {
           "name": "Country",
           "type": "number"
          }
         ],
         "pandas_version": "0.20.0",
         "primaryKey": [
          "index"
         ]
        }
       },
       "total_rows": 30
      },
      "text/html": [
       "<div>\n",
       "<style scoped>\n",
       "    .dataframe tbody tr th:only-of-type {\n",
       "        vertical-align: middle;\n",
       "    }\n",
       "\n",
       "    .dataframe tbody tr th {\n",
       "        vertical-align: top;\n",
       "    }\n",
       "\n",
       "    .dataframe thead th {\n",
       "        text-align: right;\n",
       "    }\n",
       "</style>\n",
       "<table border=\"1\" class=\"dataframe\">\n",
       "  <thead>\n",
       "    <tr style=\"text-align: right;\">\n",
       "      <th></th>\n",
       "      <th>index</th>\n",
       "      <th>Country</th>\n",
       "    </tr>\n",
       "  </thead>\n",
       "  <tbody>\n",
       "    <tr>\n",
       "      <th>0</th>\n",
       "      <td>Italy</td>\n",
       "      <td>0.192131</td>\n",
       "    </tr>\n",
       "    <tr>\n",
       "      <th>1</th>\n",
       "      <td>Germany</td>\n",
       "      <td>0.375768</td>\n",
       "    </tr>\n",
       "    <tr>\n",
       "      <th>2</th>\n",
       "      <td>France</td>\n",
       "      <td>0.506091</td>\n",
       "    </tr>\n",
       "    <tr>\n",
       "      <th>3</th>\n",
       "      <td>Netherlands</td>\n",
       "      <td>0.613837</td>\n",
       "    </tr>\n",
       "    <tr>\n",
       "      <th>4</th>\n",
       "      <td>Switzerland</td>\n",
       "      <td>0.710853</td>\n",
       "    </tr>\n",
       "    <tr>\n",
       "      <th>5</th>\n",
       "      <td>Croatia</td>\n",
       "      <td>0.798703</td>\n",
       "    </tr>\n",
       "    <tr>\n",
       "      <th>6</th>\n",
       "      <td>Spain</td>\n",
       "      <td>0.873477</td>\n",
       "    </tr>\n",
       "    <tr>\n",
       "      <th>7</th>\n",
       "      <td>United</td>\n",
       "      <td>0.898178</td>\n",
       "    </tr>\n",
       "    <tr>\n",
       "      <th>8</th>\n",
       "      <td>Denmark</td>\n",
       "      <td>0.915614</td>\n",
       "    </tr>\n",
       "    <tr>\n",
       "      <th>9</th>\n",
       "      <td>Portugal</td>\n",
       "      <td>0.929809</td>\n",
       "    </tr>\n",
       "    <tr>\n",
       "      <th>10</th>\n",
       "      <td>Greece</td>\n",
       "      <td>0.938639</td>\n",
       "    </tr>\n",
       "    <tr>\n",
       "      <th>11</th>\n",
       "      <td>Malta</td>\n",
       "      <td>0.946686</td>\n",
       "    </tr>\n",
       "    <tr>\n",
       "      <th>12</th>\n",
       "      <td>Austria</td>\n",
       "      <td>0.953504</td>\n",
       "    </tr>\n",
       "    <tr>\n",
       "      <th>13</th>\n",
       "      <td>Belgium</td>\n",
       "      <td>0.959875</td>\n",
       "    </tr>\n",
       "    <tr>\n",
       "      <th>14</th>\n",
       "      <td>Turkey</td>\n",
       "      <td>0.966246</td>\n",
       "    </tr>\n",
       "    <tr>\n",
       "      <th>15</th>\n",
       "      <td>Slovenia</td>\n",
       "      <td>0.970269</td>\n",
       "    </tr>\n",
       "    <tr>\n",
       "      <th>16</th>\n",
       "      <td>unknown</td>\n",
       "      <td>0.974070</td>\n",
       "    </tr>\n",
       "    <tr>\n",
       "      <th>17</th>\n",
       "      <td>Finland</td>\n",
       "      <td>0.977870</td>\n",
       "    </tr>\n",
       "    <tr>\n",
       "      <th>18</th>\n",
       "      <td>Poland</td>\n",
       "      <td>0.981111</td>\n",
       "    </tr>\n",
       "    <tr>\n",
       "      <th>19</th>\n",
       "      <td>Montenegro</td>\n",
       "      <td>0.983346</td>\n",
       "    </tr>\n",
       "    <tr>\n",
       "      <th>20</th>\n",
       "      <td>Lake</td>\n",
       "      <td>0.984688</td>\n",
       "    </tr>\n",
       "    <tr>\n",
       "      <th>21</th>\n",
       "      <td>Monaco</td>\n",
       "      <td>0.985805</td>\n",
       "    </tr>\n",
       "    <tr>\n",
       "      <th>22</th>\n",
       "      <td>Sweden</td>\n",
       "      <td>0.986811</td>\n",
       "    </tr>\n",
       "    <tr>\n",
       "      <th>23</th>\n",
       "      <td>Slovak</td>\n",
       "      <td>0.987817</td>\n",
       "    </tr>\n",
       "    <tr>\n",
       "      <th>24</th>\n",
       "      <td>Cyprus</td>\n",
       "      <td>0.988376</td>\n",
       "    </tr>\n",
       "    <tr>\n",
       "      <th>25</th>\n",
       "      <td>Lithuania</td>\n",
       "      <td>0.988935</td>\n",
       "    </tr>\n",
       "    <tr>\n",
       "      <th>26</th>\n",
       "      <td>Czech</td>\n",
       "      <td>0.989494</td>\n",
       "    </tr>\n",
       "    <tr>\n",
       "      <th>27</th>\n",
       "      <td>Estonia</td>\n",
       "      <td>0.989941</td>\n",
       "    </tr>\n",
       "    <tr>\n",
       "      <th>28</th>\n",
       "      <td>Lago</td>\n",
       "      <td>0.990276</td>\n",
       "    </tr>\n",
       "    <tr>\n",
       "      <th>29</th>\n",
       "      <td>Bulgaria</td>\n",
       "      <td>0.990611</td>\n",
       "    </tr>\n",
       "  </tbody>\n",
       "</table>\n",
       "</div>"
      ],
      "text/plain": [
       "          index   Country\n",
       "0         Italy  0.192131\n",
       "1       Germany  0.375768\n",
       "2        France  0.506091\n",
       "3   Netherlands  0.613837\n",
       "4   Switzerland  0.710853\n",
       "5       Croatia  0.798703\n",
       "6         Spain  0.873477\n",
       "7        United  0.898178\n",
       "8       Denmark  0.915614\n",
       "9      Portugal  0.929809\n",
       "10       Greece  0.938639\n",
       "11        Malta  0.946686\n",
       "12      Austria  0.953504\n",
       "13      Belgium  0.959875\n",
       "14       Turkey  0.966246\n",
       "15     Slovenia  0.970269\n",
       "16      unknown  0.974070\n",
       "17      Finland  0.977870\n",
       "18       Poland  0.981111\n",
       "19   Montenegro  0.983346\n",
       "20         Lake  0.984688\n",
       "21       Monaco  0.985805\n",
       "22       Sweden  0.986811\n",
       "23       Slovak  0.987817\n",
       "24       Cyprus  0.988376\n",
       "25    Lithuania  0.988935\n",
       "26        Czech  0.989494\n",
       "27      Estonia  0.989941\n",
       "28         Lago  0.990276\n",
       "29     Bulgaria  0.990611"
      ]
     },
     "execution_count": 247,
     "metadata": {},
     "output_type": "execute_result"
    }
   ],
   "source": [
    "np.cumsum(data['Country'].value_counts(normalize=True))[:30].reset_index()"
   ]
  },
  {
   "cell_type": "markdown",
   "id": "234b4cb6-b05b-48d6-81b4-59e62a0589f5",
   "metadata": {},
   "source": [
    "So let's use the first 20, as we will cover 98% of the data by using only those values."
   ]
  },
  {
   "cell_type": "code",
   "execution_count": null,
   "id": "b71b4be5-e65c-4012-a7ff-14cbbe24af64",
   "metadata": {},
   "outputs": [],
   "source": [
    "countries_to_include = data['Country'].value_counts(normalize=True)[:20].index\n",
    "data = data.loc[data['Country'].isin(list(countries_to_include))]"
   ]
  },
  {
   "cell_type": "markdown",
   "id": "a4e53493-5d8b-4ecd-a44a-f730b0db0177",
   "metadata": {},
   "source": [
    "#### Creating the features and target datasets"
   ]
  },
  {
   "cell_type": "markdown",
   "id": "9237713b-4311-4aef-84c5-6033318cc93f",
   "metadata": {},
   "source": [
    "Finally, we can split our data to X - features and y - target datasets."
   ]
  },
  {
   "cell_type": "markdown",
   "id": "5fd2bf8b-c688-4a91-aec6-b51e52b0ea9a",
   "metadata": {},
   "source": [
    "At first we should look at our dataset and decide, which columns we should drop."
   ]
  },
  {
   "cell_type": "code",
   "execution_count": null,
   "id": "f9702e41-5d92-4c0f-b311-d37c304934d0",
   "metadata": {},
   "outputs": [
    {
     "data": {
      "application/com.datacamp.data-table.v1+json": {
       "is_truncated": false,
       "table": {
        "data": [
         {
          "Boat Type": "Motor Yacht",
          "Condition": "new",
          "Country": "Switzerland",
          "Currency": "CHF",
          "Fuel": "unknown",
          "Length": 4,
          "Location": "Switzerland Â» Lake Geneva Â» VÃ©senaz",
          "Manufacturer": "Rigiflex power boats",
          "Material": "unknown",
          "Number of views last 7 days": 226,
          "Price": "CHF 3337",
          "Price in EUR": 3236.89,
          "Prices": 3337,
          "Type": "new boat from stock",
          "Width": 1.9,
          "Year Built": 2017,
          "index": 0
         },
         {
          "Boat Type": "Center console boat",
          "Condition": "new",
          "Country": "Germany",
          "Currency": "EUR",
          "Fuel": "unknown",
          "Length": 4,
          "Location": "Germany Â» BÃ¶nningstedt",
          "Manufacturer": "Terhi power boats",
          "Material": "Thermoplastic",
          "Number of views last 7 days": 75,
          "Price": "EUR 3490",
          "Price in EUR": 3490,
          "Prices": 3490,
          "Type": "new boat from stock",
          "Width": 1.5,
          "Year Built": 2020,
          "index": 1
         },
         {
          "Boat Type": "Sport Boat",
          "Condition": "new",
          "Country": "Switzerland",
          "Currency": "CHF",
          "Fuel": "unknown",
          "Length": 3.69,
          "Location": "Switzerland Â» Lake of Zurich Â» StÃ¤fa ZH",
          "Manufacturer": "Marine power boats",
          "Material": "Aluminium",
          "Number of views last 7 days": 124,
          "Price": "CHF 3770",
          "Price in EUR": 3656.9,
          "Prices": 3770,
          "Type": "new boat from stock",
          "Width": 1.42,
          "Year Built": 0,
          "index": 2
         },
         {
          "Boat Type": "Sport Boat",
          "Condition": "new",
          "Country": "Denmark",
          "Currency": "DKK",
          "Fuel": "unknown",
          "Length": 3,
          "Location": "Denmark Â» Svendborg",
          "Manufacturer": "Pioner power boats",
          "Material": "unknown",
          "Number of views last 7 days": 64,
          "Price": "DKK 25900",
          "Price in EUR": 3367,
          "Prices": 25900,
          "Type": "new boat from stock",
          "Width": 1,
          "Year Built": 2020,
          "index": 3
         },
         {
          "Boat Type": "Fishing Boat",
          "Condition": "new",
          "Country": "Germany",
          "Currency": "EUR",
          "Fuel": "unknown",
          "Length": 3.55,
          "Location": "Germany Â» Bayern Â» MÃ¼nchen",
          "Manufacturer": "Linder power boats",
          "Material": "Aluminium",
          "Number of views last 7 days": 58,
          "Price": "EUR 3399",
          "Price in EUR": 3399,
          "Prices": 3399,
          "Type": "new boat from stock",
          "Width": 1.46,
          "Year Built": 2019,
          "index": 4
         }
        ],
        "schema": {
         "fields": [
          {
           "name": "index",
           "type": "integer"
          },
          {
           "name": "Price",
           "type": "string"
          },
          {
           "name": "Boat Type",
           "type": "string"
          },
          {
           "name": "Manufacturer",
           "type": "string"
          },
          {
           "name": "Type",
           "type": "string"
          },
          {
           "name": "Year Built",
           "type": "integer"
          },
          {
           "name": "Length",
           "type": "number"
          },
          {
           "name": "Width",
           "type": "number"
          },
          {
           "name": "Material",
           "type": "string"
          },
          {
           "name": "Location",
           "type": "string"
          },
          {
           "name": "Number of views last 7 days",
           "type": "integer"
          },
          {
           "name": "Currency",
           "type": "string"
          },
          {
           "name": "Prices",
           "type": "number"
          },
          {
           "name": "Price in EUR",
           "type": "number"
          },
          {
           "name": "Condition",
           "type": "string"
          },
          {
           "name": "Fuel",
           "type": "string"
          },
          {
           "name": "Country",
           "type": "string"
          }
         ],
         "pandas_version": "0.20.0",
         "primaryKey": [
          "index"
         ]
        }
       },
       "total_rows": 5
      },
      "text/html": [
       "<div>\n",
       "<style scoped>\n",
       "    .dataframe tbody tr th:only-of-type {\n",
       "        vertical-align: middle;\n",
       "    }\n",
       "\n",
       "    .dataframe tbody tr th {\n",
       "        vertical-align: top;\n",
       "    }\n",
       "\n",
       "    .dataframe thead th {\n",
       "        text-align: right;\n",
       "    }\n",
       "</style>\n",
       "<table border=\"1\" class=\"dataframe\">\n",
       "  <thead>\n",
       "    <tr style=\"text-align: right;\">\n",
       "      <th></th>\n",
       "      <th>Price</th>\n",
       "      <th>Boat Type</th>\n",
       "      <th>Manufacturer</th>\n",
       "      <th>Type</th>\n",
       "      <th>Year Built</th>\n",
       "      <th>Length</th>\n",
       "      <th>Width</th>\n",
       "      <th>Material</th>\n",
       "      <th>Location</th>\n",
       "      <th>Number of views last 7 days</th>\n",
       "      <th>Currency</th>\n",
       "      <th>Prices</th>\n",
       "      <th>Price in EUR</th>\n",
       "      <th>Condition</th>\n",
       "      <th>Fuel</th>\n",
       "      <th>Country</th>\n",
       "    </tr>\n",
       "  </thead>\n",
       "  <tbody>\n",
       "    <tr>\n",
       "      <th>0</th>\n",
       "      <td>CHF 3337</td>\n",
       "      <td>Motor Yacht</td>\n",
       "      <td>Rigiflex power boats</td>\n",
       "      <td>new boat from stock</td>\n",
       "      <td>2017</td>\n",
       "      <td>4.00</td>\n",
       "      <td>1.90</td>\n",
       "      <td>unknown</td>\n",
       "      <td>Switzerland Â» Lake Geneva Â» VÃ©senaz</td>\n",
       "      <td>226</td>\n",
       "      <td>CHF</td>\n",
       "      <td>3337.0</td>\n",
       "      <td>3236.89</td>\n",
       "      <td>new</td>\n",
       "      <td>unknown</td>\n",
       "      <td>Switzerland</td>\n",
       "    </tr>\n",
       "    <tr>\n",
       "      <th>1</th>\n",
       "      <td>EUR 3490</td>\n",
       "      <td>Center console boat</td>\n",
       "      <td>Terhi power boats</td>\n",
       "      <td>new boat from stock</td>\n",
       "      <td>2020</td>\n",
       "      <td>4.00</td>\n",
       "      <td>1.50</td>\n",
       "      <td>Thermoplastic</td>\n",
       "      <td>Germany Â» BÃ¶nningstedt</td>\n",
       "      <td>75</td>\n",
       "      <td>EUR</td>\n",
       "      <td>3490.0</td>\n",
       "      <td>3490.00</td>\n",
       "      <td>new</td>\n",
       "      <td>unknown</td>\n",
       "      <td>Germany</td>\n",
       "    </tr>\n",
       "    <tr>\n",
       "      <th>2</th>\n",
       "      <td>CHF 3770</td>\n",
       "      <td>Sport Boat</td>\n",
       "      <td>Marine power boats</td>\n",
       "      <td>new boat from stock</td>\n",
       "      <td>0</td>\n",
       "      <td>3.69</td>\n",
       "      <td>1.42</td>\n",
       "      <td>Aluminium</td>\n",
       "      <td>Switzerland Â» Lake of Zurich Â» StÃ¤fa ZH</td>\n",
       "      <td>124</td>\n",
       "      <td>CHF</td>\n",
       "      <td>3770.0</td>\n",
       "      <td>3656.90</td>\n",
       "      <td>new</td>\n",
       "      <td>unknown</td>\n",
       "      <td>Switzerland</td>\n",
       "    </tr>\n",
       "    <tr>\n",
       "      <th>3</th>\n",
       "      <td>DKK 25900</td>\n",
       "      <td>Sport Boat</td>\n",
       "      <td>Pioner power boats</td>\n",
       "      <td>new boat from stock</td>\n",
       "      <td>2020</td>\n",
       "      <td>3.00</td>\n",
       "      <td>1.00</td>\n",
       "      <td>unknown</td>\n",
       "      <td>Denmark Â» Svendborg</td>\n",
       "      <td>64</td>\n",
       "      <td>DKK</td>\n",
       "      <td>25900.0</td>\n",
       "      <td>3367.00</td>\n",
       "      <td>new</td>\n",
       "      <td>unknown</td>\n",
       "      <td>Denmark</td>\n",
       "    </tr>\n",
       "    <tr>\n",
       "      <th>4</th>\n",
       "      <td>EUR 3399</td>\n",
       "      <td>Fishing Boat</td>\n",
       "      <td>Linder power boats</td>\n",
       "      <td>new boat from stock</td>\n",
       "      <td>2019</td>\n",
       "      <td>3.55</td>\n",
       "      <td>1.46</td>\n",
       "      <td>Aluminium</td>\n",
       "      <td>Germany Â» Bayern Â» MÃ¼nchen</td>\n",
       "      <td>58</td>\n",
       "      <td>EUR</td>\n",
       "      <td>3399.0</td>\n",
       "      <td>3399.00</td>\n",
       "      <td>new</td>\n",
       "      <td>unknown</td>\n",
       "      <td>Germany</td>\n",
       "    </tr>\n",
       "  </tbody>\n",
       "</table>\n",
       "</div>"
      ],
      "text/plain": [
       "       Price            Boat Type          Manufacturer                 Type  \\\n",
       "0   CHF 3337          Motor Yacht  Rigiflex power boats  new boat from stock   \n",
       "1   EUR 3490  Center console boat     Terhi power boats  new boat from stock   \n",
       "2   CHF 3770           Sport Boat    Marine power boats  new boat from stock   \n",
       "3  DKK 25900           Sport Boat    Pioner power boats  new boat from stock   \n",
       "4   EUR 3399         Fishing Boat    Linder power boats  new boat from stock   \n",
       "\n",
       "   Year Built  Length  Width       Material  \\\n",
       "0        2017    4.00   1.90        unknown   \n",
       "1        2020    4.00   1.50  Thermoplastic   \n",
       "2           0    3.69   1.42      Aluminium   \n",
       "3        2020    3.00   1.00        unknown   \n",
       "4        2019    3.55   1.46      Aluminium   \n",
       "\n",
       "                                     Location  Number of views last 7 days  \\\n",
       "0      Switzerland Â» Lake Geneva Â» VÃ©senaz                          226   \n",
       "1                    Germany Â» BÃ¶nningstedt                           75   \n",
       "2  Switzerland Â» Lake of Zurich Â» StÃ¤fa ZH                          124   \n",
       "3                        Denmark Â» Svendborg                           64   \n",
       "4               Germany Â» Bayern Â» MÃ¼nchen                           58   \n",
       "\n",
       "  Currency   Prices  Price in EUR Condition     Fuel      Country  \n",
       "0      CHF   3337.0       3236.89       new  unknown  Switzerland  \n",
       "1      EUR   3490.0       3490.00       new  unknown      Germany  \n",
       "2      CHF   3770.0       3656.90       new  unknown  Switzerland  \n",
       "3      DKK  25900.0       3367.00       new  unknown      Denmark  \n",
       "4      EUR   3399.0       3399.00       new  unknown      Germany  "
      ]
     },
     "execution_count": 254,
     "metadata": {},
     "output_type": "execute_result"
    }
   ],
   "source": [
    "data.head()"
   ]
  },
  {
   "cell_type": "code",
   "execution_count": null,
   "id": "8784d41d-a33c-4d95-b71c-451f4fb67828",
   "metadata": {},
   "outputs": [],
   "source": [
    "X = data.drop(['Price', 'Location', 'Type', 'Number of views last 7 days' , 'Currency', 'Prices'], axis=1)\n",
    "y = data['Number of views last 7 days']"
   ]
  },
  {
   "cell_type": "markdown",
   "id": "2ce2690c-ed7d-4dc8-87c7-f7352e30d6cb",
   "metadata": {},
   "source": [
    "Let's check the shapes of the X and y tables."
   ]
  },
  {
   "cell_type": "code",
   "execution_count": null,
   "id": "d00c5407-82fd-40bf-8a83-a5b385de25a8",
   "metadata": {},
   "outputs": [
    {
     "data": {
      "text/plain": [
       "(8798, 10)"
      ]
     },
     "execution_count": 270,
     "metadata": {},
     "output_type": "execute_result"
    }
   ],
   "source": [
    "X.shape"
   ]
  },
  {
   "cell_type": "code",
   "execution_count": null,
   "id": "f5473632-03a4-4767-b89c-a31ffb0329b5",
   "metadata": {},
   "outputs": [
    {
     "data": {
      "text/plain": [
       "(8798,)"
      ]
     },
     "execution_count": 271,
     "metadata": {},
     "output_type": "execute_result"
    }
   ],
   "source": [
    "y.shape"
   ]
  },
  {
   "cell_type": "markdown",
   "id": "5b099b42-e300-4e0b-aa96-9cec98887ca7",
   "metadata": {},
   "source": [
    "Great, now we have our features and target datasets ready. And look, we lost only 1000 rows in the process of preparing the data. It is hard to say if it is good or bad, but at least we can say that it will be better for our model."
   ]
  },
  {
   "cell_type": "markdown",
   "id": "90946dc7-e7bc-414d-aa1b-29b2b6ebf2b6",
   "metadata": {},
   "source": [
    "## Making a model"
   ]
  },
  {
   "cell_type": "markdown",
   "id": "87a07cd1-45a1-4a8a-8af7-9d0fe8a653a4",
   "metadata": {},
   "source": [
    "### Model training"
   ]
  },
  {
   "cell_type": "markdown",
   "id": "40073cc4-ee89-4fe1-b1c3-8d234f1668e2",
   "metadata": {},
   "source": [
    "It is proposed to use the `RandomForestRegressor` as our model. But first we should encode our categorical data in numerical labels, as this model does not work with strings. We will `get_dummies` method for it."
   ]
  },
  {
   "cell_type": "code",
   "execution_count": null,
   "id": "25816595-6a53-415e-a5f5-9963f3445833",
   "metadata": {},
   "outputs": [],
   "source": [
    "X_oh = pd.get_dummies(X, prefix=['Boat Type', 'Manufacturer', 'Material', 'Condition', 'Fuel', 'Country'],drop_first=True)"
   ]
  },
  {
   "cell_type": "markdown",
   "id": "b13c8957-2535-4efe-b62a-74f614010e5b",
   "metadata": {},
   "source": [
    "Now we should divide our data for training and testing samples using `train_test_split` method. It is common to divide them as 75:25 ratio."
   ]
  },
  {
   "cell_type": "code",
   "execution_count": null,
   "id": "c314c3d4-c128-4739-84d7-3d8c1b3c4c2e",
   "metadata": {},
   "outputs": [],
   "source": [
    "X_train, X_test, y_train, y_test = train_test_split(X_oh, y, test_size=0.25, random_state=42)"
   ]
  },
  {
   "cell_type": "markdown",
   "id": "e48bd162-43af-47e2-b8b9-aaa257f8c715",
   "metadata": {},
   "source": [
    "Let's use `RandomizedSearchCV` to obtain optimal parameters for our model."
   ]
  },
  {
   "cell_type": "code",
   "execution_count": null,
   "id": "481ce06c-f1ca-491e-a885-aaba6a40292f",
   "metadata": {},
   "outputs": [],
   "source": [
    "estimator = RandomForestRegressor(random_state=42)\n",
    "params = {\n",
    "    'n_estimators': list(range(10, 501, 50)),\n",
    "    'max_features': ['auto', 'sqrt'],\n",
    "    'max_depth': list(range(1, 51, 10)),\n",
    "    'min_samples_split': list(range(1, 11, 1)),\n",
    "    'min_samples_leaf': list(range(1, 6, 1)),\n",
    "    'bootstrap': [True, False]\n",
    "}\n",
    "model = RandomizedSearchCV(estimator=estimator, param_distributions=params, cv=5, random_state=42)"
   ]
  },
  {
   "cell_type": "markdown",
   "id": "544750f1-84f2-40fc-97b2-78d59c874e70",
   "metadata": {},
   "source": [
    "Now we fit our training data."
   ]
  },
  {
   "cell_type": "code",
   "execution_count": null,
   "id": "e16b09c9-dd57-42fb-a13b-e9b8a60ab126",
   "metadata": {},
   "outputs": [
    {
     "data": {
      "text/plain": [
       "RandomizedSearchCV(cv=5, estimator=RandomForestRegressor(random_state=42),\n",
       "                   param_distributions={'bootstrap': [True, False],\n",
       "                                        'max_depth': [1, 11, 21, 31, 41],\n",
       "                                        'max_features': ['auto', 'sqrt'],\n",
       "                                        'min_samples_leaf': [1, 2, 3, 4, 5],\n",
       "                                        'min_samples_split': [1, 2, 3, 4, 5, 6,\n",
       "                                                              7, 8, 9, 10],\n",
       "                                        'n_estimators': [10, 60, 110, 160, 210,\n",
       "                                                         260, 310, 360, 410,\n",
       "                                                         460]},\n",
       "                   random_state=42)"
      ]
     },
     "execution_count": 457,
     "metadata": {},
     "output_type": "execute_result"
    }
   ],
   "source": [
    "model.fit(X_train, y_train)"
   ]
  },
  {
   "cell_type": "markdown",
   "id": "b901b9f3-fd9c-4935-9ea7-a5ef80e590e1",
   "metadata": {},
   "source": [
    "Next we should save the best model."
   ]
  },
  {
   "cell_type": "code",
   "execution_count": null,
   "id": "b066e162-3f8b-4210-939c-c65c8639e0b4",
   "metadata": {},
   "outputs": [],
   "source": [
    "best_model = model.best_estimator_"
   ]
  },
  {
   "cell_type": "markdown",
   "id": "29e16672-ec16-4e3a-8c7b-32792fababcb",
   "metadata": {},
   "source": [
    "### Model quality"
   ]
  },
  {
   "cell_type": "markdown",
   "id": "7024cd6d-a705-4d02-92e3-48e5b60ee836",
   "metadata": {},
   "source": [
    "#### Training data"
   ]
  },
  {
   "cell_type": "markdown",
   "id": "39dba902-9112-4a64-99ab-ee2a72826a13",
   "metadata": {},
   "source": [
    "According to the client, the model will be considered if the predictions are only 50% off of the true values. It means that we should use `mean_absolute_percentage_error` or `MAPE` to evaluate how model performs when predicting the values.\n",
    "\n",
    "First let's calculate the MAE for train data."
   ]
  },
  {
   "cell_type": "code",
   "execution_count": null,
   "id": "3ccf05c8-4ee4-4bc1-8207-9ef68a332979",
   "metadata": {},
   "outputs": [
    {
     "data": {
      "text/plain": [
       "0.3521956944959664"
      ]
     },
     "execution_count": 538,
     "metadata": {},
     "output_type": "execute_result"
    }
   ],
   "source": [
    "y_train_predict = best_model.predict(X_train)\n",
    "MAPE_train = mean_absolute_percentage_error(y_train, y_train_predict)\n",
    "MAPE_train"
   ]
  },
  {
   "cell_type": "markdown",
   "id": "191c85cd-cbdc-48eb-9840-1041c70769f7",
   "metadata": {},
   "source": [
    "This value means that our model is on the average predicts the values that are 35% off the true values."
   ]
  },
  {
   "cell_type": "markdown",
   "id": "3fe59bdd-4ca7-46f4-b8bc-0ef34bb3bf83",
   "metadata": {},
   "source": [
    "#### Test data"
   ]
  },
  {
   "cell_type": "markdown",
   "id": "8dda60e7-44bb-4e38-98f3-811410d7fb9d",
   "metadata": {},
   "source": [
    "Now we should check how our model behaves with the test data."
   ]
  },
  {
   "cell_type": "code",
   "execution_count": null,
   "id": "6af82c02-7277-44e3-906d-9b722c817770",
   "metadata": {},
   "outputs": [
    {
     "data": {
      "text/plain": [
       "0.47445000761924194"
      ]
     },
     "execution_count": 541,
     "metadata": {},
     "output_type": "execute_result"
    }
   ],
   "source": [
    "y_test_predict = best_model.predict(X_test)\n",
    "MAPE_test = mean_absolute_percentage_error(y_test, y_test_predict)\n",
    "MAPE_test"
   ]
  },
  {
   "cell_type": "markdown",
   "id": "8c6a4238-7ab7-4ca3-bbb5-4f547414091f",
   "metadata": {},
   "source": [
    "So the MAPE here is bigger, it is 47.4% off on the average. It means that our model is a bit overfitted. \n",
    "\n",
    "But anyway the model satisfies the reqiurements, since it is less than 50% off the true values, which means that the cliend will consider it."
   ]
  },
  {
   "cell_type": "markdown",
   "id": "5c159d40-c689-4575-8f66-426f9fd77bb3",
   "metadata": {},
   "source": [
    "#### Dummy data"
   ]
  },
  {
   "cell_type": "markdown",
   "id": "6801a787-fc81-4cc0-9e3e-8e4b261b6696",
   "metadata": {},
   "source": [
    "It is important to check whether our model behaves better than the dummy model on the test data.\n",
    "\n",
    "Let's imagine that we make the model which will return the median value of the test target for every prediction."
   ]
  },
  {
   "cell_type": "code",
   "execution_count": null,
   "id": "c35111b6-0c5f-4043-895a-5b04efe68ae3",
   "metadata": {},
   "outputs": [],
   "source": [
    "y_dummy_test = [y_test.median()]*len(y_test)"
   ]
  },
  {
   "cell_type": "markdown",
   "id": "812d58b1-f9c3-4ce8-8c7a-3a8b19298e86",
   "metadata": {},
   "source": [
    "Now we should calculate the MAPE for the dummy model."
   ]
  },
  {
   "cell_type": "code",
   "execution_count": null,
   "id": "fbb4e24b-1933-4346-9864-b4d8f51ebaef",
   "metadata": {},
   "outputs": [
    {
     "data": {
      "text/plain": [
       "0.5326760948881474"
      ]
     },
     "execution_count": 559,
     "metadata": {},
     "output_type": "execute_result"
    }
   ],
   "source": [
    "MAPE_dummy = mean_absolute_percentage_error(y_test, y_dummy_test)\n",
    "MAPE_dummy"
   ]
  },
  {
   "cell_type": "markdown",
   "id": "11bcc8fa-e8c8-4514-bd14-c8485f8c8c35",
   "metadata": {},
   "source": [
    "So the dummy model on the average is only 6% more off the true values than our model.\n",
    "\n",
    "But still, our model satisfies the requirements that were made by the clienе."
   ]
  },
  {
   "cell_type": "markdown",
   "id": "799f6e93-0924-40a3-8b09-8f29acc4da80",
   "metadata": {},
   "source": [
    "## Parameters importance"
   ]
  },
  {
   "cell_type": "markdown",
   "id": "c717a93f-4197-40bb-aba9-cc96e6133e22",
   "metadata": {},
   "source": [
    "The second task was to check if some features are more important than the others.\n",
    "\n",
    "We will use `feature_importances` attribute of our model to get the importance of each feature. Afterwards, we will create a table with the name of the feature and its importance for the model. Finally, we will plot the data as a barplot."
   ]
  },
  {
   "cell_type": "code",
   "execution_count": null,
   "id": "bab71a1e-47fd-4a55-bb4a-d504a7a63a9e",
   "metadata": {},
   "outputs": [
    {
     "data": {
      "image/png": "[encoded data removed]",
      "text/plain": [
       "<Figure size 432x288 with 1 Axes>"
      ]
     },
     "metadata": {
      "needs_background": "light"
     },
     "output_type": "display_data"
    }
   ],
   "source": [
    "feature_importance = best_model.feature_importances_\n",
    "features = X_train.columns\n",
    "df = pd.DataFrame({'feature':features, 'importance':feature_importance}).sort_values(by='importance', ascending=False)[:20].plot(x='feature', y='importance', kind='barh')"
   ]
  },
  {
   "cell_type": "markdown",
   "id": "e6b2eff1-fc44-4320-bf9d-ef79e9d0b748",
   "metadata": {},
   "source": [
    "It is seen on the barplot, that:\n",
    "- For some reason, the fact that the boat is from Switzerland was the most important for predictions.\n",
    "- The price of the boat was the second importante feature.\n",
    "- Then goes condition of the boat, especially, if it is used. Maybe they are just cheaper?\n",
    "- Sizes of the boat are also important.\n",
    "- After the size, year of the boat was also an important feature.\n",
    "- Finally, it was also important that the material of the boat was plastic."
   ]
  },
  {
   "cell_type": "markdown",
   "id": "2f10b5f2-a2b0-432b-b944-7a36d4802a0c",
   "metadata": {},
   "source": [
    "The conclusion here would be that according to our model, the client can reduce the number of features for the boat in the following way:\n",
    "- Location.\n",
    "- Price.\n",
    "- Condition.\n",
    "- Length/Width.\n",
    "- Material.\n",
    "- Year Built.\n",
    "\n",
    "The features like `Boat Type`, `Manufacturer` and `Engine type` can be dropped from the initial survey about the boat.\n",
    "\n",
    "It is strange that the `Boat Type` feature is not so important for the model. But my guess is that people may judge about the Boat Type from the photos of the boat that are provided in the listing."
   ]
  },
  {
   "cell_type": "markdown",
   "id": "a6a5c1d9-2b55-479a-bb4e-d66572b26670",
   "metadata": {},
   "source": [
    "## Conclusion"
   ]
  },
  {
   "cell_type": "markdown",
   "id": "1493a9af-5965-49cb-921f-3e2eb7558780",
   "metadata": {},
   "source": [
    "In the project we developed a model which predicts the number of views that the listing of the boat will have based on it's features.\n",
    "- In the first part data preprocessing was conducted in order to deal with missing values and reducing the number of categorical values with affecting the size of the data in the minimal way. 10% of the data was dropped during preprocessing.\n",
    "- Afterwards, Random Forest Regressor model was made in order to predict the number of views of the boat:\n",
    "    - The model showed 35% off the true values for the training data and 47% off the true values for the test data. \n",
    "    - The value for the test data lies in the range that was required according to the client, which is at least 50% off the true values. \n",
    "    - Dummy model, which predicts the median all the time 53% off the true values, which means that our model is better than the model with random predictions. \n",
    "- Feature importances for the model were calculated. The results showed that such features like `Boat Type`, `Manufacturer`, `Engine type` can be excluded from the initial survey in order to make it shorter."
   ]
  }
 ],
 "metadata": {
  "colab": {
   "name": "Welcome to DataCamp Workspaces.ipynb",
   "provenance": []
  },
  "kernelspec": {
   "display_name": "Python 3 (ipykernel)",
   "language": "python",
   "name": "python3"
  },
  "language_info": {
   "codemirror_mode": {
    "name": "ipython",
    "version": 3
   },
   "file_extension": ".py",
   "mimetype": "text/x-python",
   "name": "python",
   "nbconvert_exporter": "python",
   "pygments_lexer": "ipython3",
   "version": "3.8.10"
  }
 },
 "nbformat": 4,
 "nbformat_minor": 5
}
